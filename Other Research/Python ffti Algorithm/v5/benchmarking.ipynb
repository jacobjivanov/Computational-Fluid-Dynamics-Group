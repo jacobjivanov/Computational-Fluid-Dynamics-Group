{
 "cells": [
  {
   "cell_type": "code",
   "execution_count": 13,
   "metadata": {},
   "outputs": [
    {
     "name": "stdout",
     "output_type": "stream",
     "text": [
      "Building rho Data, D = 9. \tProgress: 100.000% Complete\t Process Time:    0.00233 s\n",
      "li6 Interpolation. \t\tProgress: 100.000% Complete\t Process Time:   13.08530 s\n",
      "[13.085301876068115]\n",
      "li6 Error Quantification. \tProgress: 100.000% Complete\t Process Time:    0.11786 s\n",
      "[2713718.322615603]\n",
      "Building rho Data, D = 16. \tProgress: 100.000% Complete\t Process Time:    0.01020 s\n",
      "li6 Interpolation. \t\tProgress: 100.000% Complete\t Process Time:  215.86741 s\n",
      "[215.86741399765015]\n",
      "li6 Error Quantification. \tProgress: 100.000% Complete\t Process Time:    0.74303 s\n",
      "[10899232.80043591]\n",
      "Building rho Data, D = 25. \tProgress: 100.000% Complete\t Process Time:    0.04736 s\n",
      "li6 Interpolation. \t\tProgress: 100.000% Complete\t Process Time: 14940.11627 s\n",
      "[14940.116267204285]\n",
      "li6 Error Quantification. \tProgress: 100.000% Complete\t Process Time:    2.53192 s\n",
      "[32297588.73266414]\n"
     ]
    }
   ],
   "source": [
    "# This program was written in its entirety by Jacob Ivanov, Undergraduate Research Assistant under Dr. Georgios Matheou for the Computational Fluid Dynamics Group at the University of Connecticut.\n",
    "\n",
    "import ffti_v6 as fi6\n",
    "import li_v6 as li6\n",
    "import numpy as np\n",
    "from time import time\n",
    "from numba import njit\n",
    "\n",
    "@njit\n",
    "def norm(values3D, Ni, Nj, Nk):\n",
    "   sum = 0\n",
    "   for i in range(Ni):\n",
    "      for j in range(Nj):\n",
    "         for k in range(Nk):\n",
    "            sum += values3D[i, j, k] ** 2\n",
    "   return sum ** 0.5 * Ni * Nj * Nk\n",
    "\n",
    "# D = np.linspace(3, 8, 6) ** 2\n",
    "D = np.linspace(3, 5, 3) ** 2\n",
    "\n",
    "li6_time = np.zeros(6), np.zeros(6)\n",
    "fi6_time = np.zeros(6), np.zeros(6)\n",
    "\n",
    "li6_error = np.zeros(6), np.zeros(6) \n",
    "fi6_error = np.zeros(6), np.zeros(6)\n",
    "\n",
    "def func(x, y, z):\n",
    "   rho = np.e ** (np.sin(x) + np.sin(y) + np.sin(z))\n",
    "   return rho\n",
    "\n",
    "x_max, y_max, z_max = 2 * np.pi, 2 * np.pi, 2 * np.pi\n",
    "\n",
    "for d in range(len(D)):\n",
    "   Ni, Nj, Nk = int(D[d]), int(D[d]), int(D[d])\n",
    "   \n",
    "   x, y, z = np.linspace(0, x_max, Ni), np.linspace(0, y_max, Nj), np.linspace(0, z_max, Nk)\n",
    "   \n",
    "   t_init = time()\n",
    "   rho = np.zeros(shape = (Ni, Nj, Nk))\n",
    "   for i in range(0, Ni): \n",
    "      for j in range(0, Nj): \n",
    "         for k in range(0, Nk):\n",
    "            rho[i, j, k] = func(x[i], y[j], z[k])\n",
    "         print(\"Building rho Data, D = {0}. \\tProgress: {1:07.3f}% Complete\".format(int(D[d]), 100 * (i + ((j + 1 ) / Nj) ) / Ni), end = '\\r')\n",
    "   t_build = time()\n",
    "   print(\"Building rho Data, D = {0}. \\tProgress: 100.000% Complete\\t Process Time: {1:10.5f} s\".format(int(D[d]), t_build - t_init))\n",
    "\n",
    "   Ni_inter, Nj_inter, Nk_inter = 4 * Ni, 4 * Nj, 4 * Nk\n",
    "   x_inter, y_inter, z_inter = np.linspace(0, x_max, Ni_inter), np.linspace(0, y_max, Nj_inter), np.linspace(0, z_max, Nk_inter)\n",
    "\n",
    "   rho_li6 = np.zeros(shape = (Ni_inter, Nj_inter, Nk_inter))\n",
    "   rho_li6_error = np.zeros(shape = (Ni_inter, Nj_inter, Nk_inter))\n",
    "   rho_fi6 = np.zeros(shape = (Ni_inter, Nj_inter, Nk_inter))\n",
    "   rho_fi6_error = np.zeros(shape = (Ni_inter, Nj_inter, Nk_inter))\n",
    "\n",
    "   li6_t = []\n",
    "   li6_e = []\n",
    "   fi6_t = []\n",
    "   fi6_e = []\n",
    "   \n",
    "   for r in range(0, 1):\n",
    "      t_s = time()\n",
    "      for i in range(0, Ni_inter): \n",
    "         for j in range(0, Nj_inter): \n",
    "            for k in range(0, Nk_inter):\n",
    "               rho_li6[i, j, k] = li6.inter_3D(x, y, z, rho, pos = [x_inter[i], y_inter[j], z_inter[k]], order = 'zyx')\n",
    "            print(\"li6 Interpolation. \\t\\tProgress: {0:07.3f}% Complete\".format(100 * (i + ((j + 1 ) / Nj_inter) ) / Ni_inter), end = '\\r')\n",
    "      t_f = time()\n",
    "      li6_t.append(t_f - t_s)\n",
    "      print(\"li6 Interpolation. \\t\\tProgress: 100.000% Complete\\t Process Time: {0:10.5f} s\".format(t_f - t_s))\n",
    "      print(li6_t)\n",
    "\n",
    "      t_s = time()\n",
    "      for i in range(0, Ni_inter): \n",
    "         for j in range(0, Nj_inter): \n",
    "            for k in range(0, Nk_inter):\n",
    "               rho_li6_error[i, j, k] = rho_li6[i, j, k] - func(x_inter[i], y_inter[j], z_inter[k])\n",
    "            print(\"li6 Error Quantification. \\tProgress: {0:07.3f}% Complete\".format(100 * (i + ((j + 1 ) / Nj_inter) ) / Ni_inter), end = '\\r')\n",
    "      t_f = time()\n",
    "      li6_e.append(norm(rho_li6_error, Ni_inter, Nj_inter, Nk_inter))\n",
    "      print(\"li6 Error Quantification. \\tProgress: 100.000% Complete\\t Process Time: {0:10.5f} s\".format(t_f - t_s))\n",
    "      print(li6_e)\n",
    "\n",
    "      '''\n",
    "      t_s = time()\n",
    "      for i in range(0, Ni_inter): \n",
    "         for j in range(0, Nj_inter): \n",
    "            for k in range(0, Nk_inter):\n",
    "               rho_li6[i, j, k] = fi6.inter_3D(x, y, z, rho, pos = [x_inter[i], y_inter[j], z_inter[k]], order = 'zyx')\n",
    "            print(\"fi6 Interpolation. \\t\\tProgress: {0:07.3f}% Complete\".format(100 * (i + ((j + 1 ) / Nj_inter) ) / Ni_inter), end = '\\r')\n",
    "      t_f = time()\n",
    "      fi6_t.append(t_f - t_s)\n",
    "      print(fi6_t)\n",
    "      print(\"fi6 Interpolation. \\t\\tProgress: 100.000% Complete\\t Process Time: {0:10.5f} s\".format(t_f - t_s))\n",
    "\n",
    "      t_s = time()\n",
    "      for i in range(0, Ni_inter): \n",
    "         for j in range(0, Nj_inter): \n",
    "            for k in range(0, Nk_inter):\n",
    "               rho_fi6_error[i, j, k] = rho_fi6[i, j, k] - func(x_inter[i], y_inter[j], z_inter[k])\n",
    "            print(\"fi6 Error Quantification. \\tProgress: {0:07.3f}% Complete\".format(100 * (i + ((j + 1 ) / Nj_inter) ) / Ni_inter), end = '\\r')\n",
    "      t_f = time()\n",
    "      fi6_e.append(l2norm_3D(rho_li6_error, Ni_inter, Nj_inter, Nk_inter))\n",
    "      print(fi6_e)\n",
    "      print(\"fi6 Error Quantification. \\tProgress: 100.000% Complete\\t Process Time: {0:10.5f} s\".format(t_f - t_s))\n",
    "   '''\n",
    "\n",
    "   li6_time[0][d], li6_time[1][d] = np.mean(li6_t), np.std(li6_t)\n",
    "   # fi6_time[0][d], fi6_time[1][d] = np.mean(fi6_t), np.std(fi6_t)\n",
    "\n",
    "   li6_error[0][d], li6_error[1][d] = np.mean(li6_e), np.std(li6_e)\n",
    "   # fi6_error[0][d], fi6_error[1][d] = np.mean(fi6_e), np.std(fi6_e)"
   ]
  },
  {
   "cell_type": "code",
   "execution_count": 14,
   "metadata": {},
   "outputs": [
    {
     "name": "stdout",
     "output_type": "stream",
     "text": [
      "[ 9. 16. 25.]\n",
      "[0. 0. 0. 0. 0. 0.]\n"
     ]
    }
   ],
   "source": [
    "print(D)\n",
    "print(li6_time[1])"
   ]
  },
  {
   "cell_type": "code",
   "execution_count": 2,
   "metadata": {},
   "outputs": [
    {
     "ename": "ValueError",
     "evalue": "x and y must be the same size",
     "output_type": "error",
     "traceback": [
      "\u001b[0;31m---------------------------------------------------------------------------\u001b[0m",
      "\u001b[0;31mValueError\u001b[0m                                Traceback (most recent call last)",
      "Cell \u001b[0;32mIn[2], line 2\u001b[0m\n\u001b[1;32m      1\u001b[0m \u001b[39mimport\u001b[39;00m \u001b[39mmatplotlib\u001b[39;00m\u001b[39m.\u001b[39;00m\u001b[39mpyplot\u001b[39;00m \u001b[39mas\u001b[39;00m \u001b[39mplt\u001b[39;00m\n\u001b[0;32m----> 2\u001b[0m plt\u001b[39m.\u001b[39;49mscatter(D, li6_error[\u001b[39m0\u001b[39;49m], label \u001b[39m=\u001b[39;49m \u001b[39m\"\u001b[39;49m\u001b[39mli6 Error Average\u001b[39;49m\u001b[39m\"\u001b[39;49m)\n\u001b[1;32m      3\u001b[0m plt\u001b[39m.\u001b[39merrorbar(D, li6_error[\u001b[39m0\u001b[39m], yerr \u001b[39m=\u001b[39m li6_error[\u001b[39m1\u001b[39m], label \u001b[39m=\u001b[39m \u001b[39m\"\u001b[39m\u001b[39mli6 Error Standard Deviation\u001b[39m\u001b[39m\"\u001b[39m)\n\u001b[1;32m      4\u001b[0m plt\u001b[39m.\u001b[39mscatter(D, fi6_error[\u001b[39m0\u001b[39m], label \u001b[39m=\u001b[39m \u001b[39m\"\u001b[39m\u001b[39mfi6 Error Average\u001b[39m\u001b[39m\"\u001b[39m)\n",
      "File \u001b[0;32m/opt/homebrew/lib/python3.10/site-packages/matplotlib/pyplot.py:2790\u001b[0m, in \u001b[0;36mscatter\u001b[0;34m(x, y, s, c, marker, cmap, norm, vmin, vmax, alpha, linewidths, edgecolors, plotnonfinite, data, **kwargs)\u001b[0m\n\u001b[1;32m   2785\u001b[0m \u001b[39m@_copy_docstring_and_deprecators\u001b[39m(Axes\u001b[39m.\u001b[39mscatter)\n\u001b[1;32m   2786\u001b[0m \u001b[39mdef\u001b[39;00m \u001b[39mscatter\u001b[39m(\n\u001b[1;32m   2787\u001b[0m         x, y, s\u001b[39m=\u001b[39m\u001b[39mNone\u001b[39;00m, c\u001b[39m=\u001b[39m\u001b[39mNone\u001b[39;00m, marker\u001b[39m=\u001b[39m\u001b[39mNone\u001b[39;00m, cmap\u001b[39m=\u001b[39m\u001b[39mNone\u001b[39;00m, norm\u001b[39m=\u001b[39m\u001b[39mNone\u001b[39;00m,\n\u001b[1;32m   2788\u001b[0m         vmin\u001b[39m=\u001b[39m\u001b[39mNone\u001b[39;00m, vmax\u001b[39m=\u001b[39m\u001b[39mNone\u001b[39;00m, alpha\u001b[39m=\u001b[39m\u001b[39mNone\u001b[39;00m, linewidths\u001b[39m=\u001b[39m\u001b[39mNone\u001b[39;00m, \u001b[39m*\u001b[39m,\n\u001b[1;32m   2789\u001b[0m         edgecolors\u001b[39m=\u001b[39m\u001b[39mNone\u001b[39;00m, plotnonfinite\u001b[39m=\u001b[39m\u001b[39mFalse\u001b[39;00m, data\u001b[39m=\u001b[39m\u001b[39mNone\u001b[39;00m, \u001b[39m*\u001b[39m\u001b[39m*\u001b[39mkwargs):\n\u001b[0;32m-> 2790\u001b[0m     __ret \u001b[39m=\u001b[39m gca()\u001b[39m.\u001b[39;49mscatter(\n\u001b[1;32m   2791\u001b[0m         x, y, s\u001b[39m=\u001b[39;49ms, c\u001b[39m=\u001b[39;49mc, marker\u001b[39m=\u001b[39;49mmarker, cmap\u001b[39m=\u001b[39;49mcmap, norm\u001b[39m=\u001b[39;49mnorm,\n\u001b[1;32m   2792\u001b[0m         vmin\u001b[39m=\u001b[39;49mvmin, vmax\u001b[39m=\u001b[39;49mvmax, alpha\u001b[39m=\u001b[39;49malpha, linewidths\u001b[39m=\u001b[39;49mlinewidths,\n\u001b[1;32m   2793\u001b[0m         edgecolors\u001b[39m=\u001b[39;49medgecolors, plotnonfinite\u001b[39m=\u001b[39;49mplotnonfinite,\n\u001b[1;32m   2794\u001b[0m         \u001b[39m*\u001b[39;49m\u001b[39m*\u001b[39;49m({\u001b[39m\"\u001b[39;49m\u001b[39mdata\u001b[39;49m\u001b[39m\"\u001b[39;49m: data} \u001b[39mif\u001b[39;49;00m data \u001b[39mis\u001b[39;49;00m \u001b[39mnot\u001b[39;49;00m \u001b[39mNone\u001b[39;49;00m \u001b[39melse\u001b[39;49;00m {}), \u001b[39m*\u001b[39;49m\u001b[39m*\u001b[39;49mkwargs)\n\u001b[1;32m   2795\u001b[0m     sci(__ret)\n\u001b[1;32m   2796\u001b[0m     \u001b[39mreturn\u001b[39;00m __ret\n",
      "File \u001b[0;32m/opt/homebrew/lib/python3.10/site-packages/matplotlib/__init__.py:1423\u001b[0m, in \u001b[0;36m_preprocess_data.<locals>.inner\u001b[0;34m(ax, data, *args, **kwargs)\u001b[0m\n\u001b[1;32m   1420\u001b[0m \u001b[39m@functools\u001b[39m\u001b[39m.\u001b[39mwraps(func)\n\u001b[1;32m   1421\u001b[0m \u001b[39mdef\u001b[39;00m \u001b[39minner\u001b[39m(ax, \u001b[39m*\u001b[39margs, data\u001b[39m=\u001b[39m\u001b[39mNone\u001b[39;00m, \u001b[39m*\u001b[39m\u001b[39m*\u001b[39mkwargs):\n\u001b[1;32m   1422\u001b[0m     \u001b[39mif\u001b[39;00m data \u001b[39mis\u001b[39;00m \u001b[39mNone\u001b[39;00m:\n\u001b[0;32m-> 1423\u001b[0m         \u001b[39mreturn\u001b[39;00m func(ax, \u001b[39m*\u001b[39;49m\u001b[39mmap\u001b[39;49m(sanitize_sequence, args), \u001b[39m*\u001b[39;49m\u001b[39m*\u001b[39;49mkwargs)\n\u001b[1;32m   1425\u001b[0m     bound \u001b[39m=\u001b[39m new_sig\u001b[39m.\u001b[39mbind(ax, \u001b[39m*\u001b[39margs, \u001b[39m*\u001b[39m\u001b[39m*\u001b[39mkwargs)\n\u001b[1;32m   1426\u001b[0m     auto_label \u001b[39m=\u001b[39m (bound\u001b[39m.\u001b[39marguments\u001b[39m.\u001b[39mget(label_namer)\n\u001b[1;32m   1427\u001b[0m                   \u001b[39mor\u001b[39;00m bound\u001b[39m.\u001b[39mkwargs\u001b[39m.\u001b[39mget(label_namer))\n",
      "File \u001b[0;32m/opt/homebrew/lib/python3.10/site-packages/matplotlib/axes/_axes.py:4520\u001b[0m, in \u001b[0;36mAxes.scatter\u001b[0;34m(self, x, y, s, c, marker, cmap, norm, vmin, vmax, alpha, linewidths, edgecolors, plotnonfinite, **kwargs)\u001b[0m\n\u001b[1;32m   4518\u001b[0m y \u001b[39m=\u001b[39m np\u001b[39m.\u001b[39mma\u001b[39m.\u001b[39mravel(y)\n\u001b[1;32m   4519\u001b[0m \u001b[39mif\u001b[39;00m x\u001b[39m.\u001b[39msize \u001b[39m!=\u001b[39m y\u001b[39m.\u001b[39msize:\n\u001b[0;32m-> 4520\u001b[0m     \u001b[39mraise\u001b[39;00m \u001b[39mValueError\u001b[39;00m(\u001b[39m\"\u001b[39m\u001b[39mx and y must be the same size\u001b[39m\u001b[39m\"\u001b[39m)\n\u001b[1;32m   4522\u001b[0m \u001b[39mif\u001b[39;00m s \u001b[39mis\u001b[39;00m \u001b[39mNone\u001b[39;00m:\n\u001b[1;32m   4523\u001b[0m     s \u001b[39m=\u001b[39m (\u001b[39m20\u001b[39m \u001b[39mif\u001b[39;00m mpl\u001b[39m.\u001b[39mrcParams[\u001b[39m'\u001b[39m\u001b[39m_internal.classic_mode\u001b[39m\u001b[39m'\u001b[39m] \u001b[39melse\u001b[39;00m\n\u001b[1;32m   4524\u001b[0m          mpl\u001b[39m.\u001b[39mrcParams[\u001b[39m'\u001b[39m\u001b[39mlines.markersize\u001b[39m\u001b[39m'\u001b[39m] \u001b[39m*\u001b[39m\u001b[39m*\u001b[39m \u001b[39m2.0\u001b[39m)\n",
      "\u001b[0;31mValueError\u001b[0m: x and y must be the same size"
     ]
    },
    {
     "data": {
      "image/png": "[encoded data removed]",
      "text/plain": [
       "<Figure size 640x480 with 1 Axes>"
      ]
     },
     "metadata": {},
     "output_type": "display_data"
    }
   ],
   "source": [
    "import matplotlib.pyplot as plt\n",
    "plt.scatter(D, li6_error[0], label = \"li6 Error Average\")\n",
    "plt.errorbar(D, li6_error[0], yerr = li6_error[1], label = \"li6 Error Standard Deviation\")\n",
    "plt.scatter(D, fi6_error[0], label = \"fi6 Error Average\")\n",
    "plt.errorbar(D, fi6_error[0], yerr = fi6_error[1], label = \"fi6 Error Standard Deviation\")\n",
    "plt.show()\n",
    "\n",
    "plt.scatter(D, li6_time[0], label = \"li6 Error Average\")\n",
    "plt.errorbar(D, li6_time[0], yerr = li6_time[1], label = \"li6 Time Standard Deviation\")\n",
    "plt.scatter(D, fi6_time[0], label = \"fi6 Error Average\")\n",
    "plt.errorbar(D, fi6_time[0], yerr = fi6_time[1], label = \"fi6 Time Standard Deviation\")\n",
    "plt.show()"
   ]
  }
 ],
 "metadata": {
  "kernelspec": {
   "display_name": "Python 3",
   "language": "python",
   "name": "python3"
  },
  "language_info": {
   "codemirror_mode": {
    "name": "ipython",
    "version": 3
   },
   "file_extension": ".py",
   "mimetype": "text/x-python",
   "name": "python",
   "nbconvert_exporter": "python",
   "pygments_lexer": "ipython3",
   "version": "3.10.9"
  },
  "orig_nbformat": 4
 },
 "nbformat": 4,
 "nbformat_minor": 2
}
