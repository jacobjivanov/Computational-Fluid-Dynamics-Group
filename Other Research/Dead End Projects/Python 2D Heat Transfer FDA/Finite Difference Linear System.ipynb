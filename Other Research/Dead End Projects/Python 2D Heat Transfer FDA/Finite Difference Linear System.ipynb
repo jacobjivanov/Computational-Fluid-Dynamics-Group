{
 "cells": [
  {
   "cell_type": "code",
   "execution_count": 1,
   "metadata": {},
   "outputs": [],
   "source": [
    "import numpy as np\n",
    "\n",
    "T_o = 1700 # K\n",
    "T_i = 400 # K\n",
    "k = 25 # W/m.K\n",
    "h_o = 1000 # W/m2.K\n",
    "h_i = 200 # W/m2.K\n",
    "\n",
    "dx = 0.001 # m"
   ]
  },
  {
   "cell_type": "code",
   "execution_count": null,
   "metadata": {},
   "outputs": [],
   "source": []
  }
 ],
 "metadata": {
  "kernelspec": {
   "display_name": "Python 3",
   "language": "python",
   "name": "python3"
  },
  "language_info": {
   "codemirror_mode": {
    "name": "ipython",
    "version": 3
   },
   "file_extension": ".py",
   "mimetype": "text/x-python",
   "name": "python",
   "nbconvert_exporter": "python",
   "pygments_lexer": "ipython3",
   "version": "3.10.9"
  },
  "orig_nbformat": 4
 },
 "nbformat": 4,
 "nbformat_minor": 2
}
