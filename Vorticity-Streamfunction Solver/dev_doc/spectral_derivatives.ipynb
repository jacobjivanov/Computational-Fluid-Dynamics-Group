{
 "cells": [
  {
   "cell_type": "markdown",
   "metadata": {},
   "source": [
    "The standard Poisson Equation:\n",
    "$$ \\nabla^2 \\left[ \\psi(x, y) \\right] = - \\omega(x, y) $$\n",
    "$$ \\frac{\\partial^2}{\\partial x^2} \\left[ \\psi(x, y) \\right] + \\frac{\\partial^2}{\\partial y^2} \\left[ \\psi(x, y) \\right] = - \\omega(x, y) $$\n",
    "By discretizing $\\psi(x, y)$ to $\\psi(x_i, y_j) = \\psi_{ij}$:\n",
    "$$ \\psi_{ij} = \\text{ifft2} \\left[ \\hat{\\psi}_{pq} \\right] = \\text{ifft2} \\left[ \\frac{ - \\hat{\\omega}_{pq}}{- k_p^2 - k_q^2} \\right] $$\n",
    "\n",
    "This can be seen by considering the 1D case for a discretized function $T(x_i) = T_i$. Through the use of the Fourier Transform, we can see that (note that $\\underline{i} = \\sqrt{-1}$):\n",
    "$$ T_i = \\sum_p \\left[ \\hat{T}_p \\cdot e^{- \\underline{i} k_p x_i} \\right] $$\n",
    "$$ \\left. \\frac{\\text{d}T}{\\text{d}x} \\right|_i = \\sum_p \\left[- \\underline{i} k_p \\hat{T}_p \\cdot e^ {- \\underline{i} k_p x_i} \\right] = \\sum_p \\left[ \\frac{\\text{d} \\hat{T_p}}{\\text{d}x} \\cdot e^ {- \\underline{i} k_p x_i} \\right]$$\n",
    "\n",
    "$$ \\therefore \\left. \\frac{\\text{d}T}{\\text{d}x} \\right|_i = \\text{ifft} \\left[ \\underline{i} k_p \\cdot \\hat{T}_p \\right] $$\n",
    "It follows that:\n",
    "$$ \\left. \\frac{\\text{d}^2T}{\\text{d}x^2} \\right|_i = \\text{ifft} \\left[ -1 k_p^2 \\cdot \\hat{T}_p \\right ] $$"
   ]
  },
  {
   "cell_type": "markdown",
   "metadata": {},
   "source": [
    "However, in order to account for the singularity at $p = 0, q = 0$, we manually set the offset value to 0, meaning that our recovered $\\psi$ will always be 0-centered.\n",
    "$$ \\psi_{ij} - \\bar{\\psi}_{ij}= \\text{ifft2} \\left[ \\hat{\\psi}_{pq} \\right] = \\text{ifft2} \\left[ \\frac{ - \\hat{\\omega}_{pq}}{- k_p^2 - k_q^2} \\right]\n"
   ]
  },
  {
   "cell_type": "markdown",
   "metadata": {},
   "source": [
    "If $\\psi(x, y)$ is defined as:\n",
    "$$ \\psi(x, y) = \\exp(\\sin(x) + \\cos(y)) $$\n",
    "The first derivatives with respect to $x$ and $y$ are, respectively:\n",
    "$$ \\psi_x(x, y) = \\cos(x) \\cdot \\psi(x, y) $$\n",
    "$$ \\psi_y(x, y) = -\\sin(y) \\cdot \\psi(x, y) $$\n",
    "\n",
    "Continuing, the second derivatives with respect to $x$, $y$ are, respectively:\n",
    "$$ \\psi_{xx}(x, y) = -\\sin(x) \\cdot \\psi(x, y) + \\cos(x) \\cdot \\psi_x(x, y) $$\n",
    "\n",
    "$$ \\psi_{yy}(x, y) = -\\cos(y) \\cdot \\psi(x, y) - \\sin(y) \\cdot \\psi_y(x, y) $$\n",
    "\n",
    "Simplified:\n",
    "$$ \\psi_{xx}(x, y) = \\psi(x, y) \\left[ \\cos^2(x) - \\sin(x) \\right] $$\n",
    "$$ \\psi_{yy}(x, y) = \\psi(x, y) \\left[ \\sin^2(y) - \\cos(y) \\right] $$"
   ]
  },
  {
   "cell_type": "markdown",
   "metadata": {},
   "source": [
    "Therefore, by using the original Poisson's Equation, $\\omega(x, y)$ is defined as:\n",
    "$$ \\omega(x, y) = - \\psi_{xx}(x, y) - \\psi_{yy}(x, y) $$\n",
    "Simplified:\n",
    "$$ \\omega(x, y) = - \\psi(x, y) \\left[ \\cos^2(x) + \\sin^2(y) - \\sin(x) - \\cos(y) \\right] $$"
   ]
  }
 ],
 "metadata": {
  "language_info": {
   "name": "python"
  },
  "orig_nbformat": 4
 },
 "nbformat": 4,
 "nbformat_minor": 2
}
