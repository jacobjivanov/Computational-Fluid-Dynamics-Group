{
 "cells": [
  {
   "cell_type": "markdown",
   "metadata": {},
   "source": [
    "The advection (transport) equation is as follows:\n",
    "$$ \\frac{\\partial u}{\\partial t} + a \\frac{\\partial u}{\\partial x} + b \\frac{\\partial u}{\\partial y} = 0 $$\n",
    "\n",
    "If $a$, $b$ are constants and $u(t = 0, x, y) = f(x, y)$, it can be shown that $u(t, x, y) = f(x - at, y - bt)$ is a solution of the original advection equation.\n",
    "\n",
    "Denoting $f(x^\\prime, y^\\prime) = f(x - at, y - bt)$\n",
    "$$ \\frac{\\partial}{\\partial t} \\left[ f(x^\\prime, y^\\prime) \\right] + a \\frac{\\partial}{\\partial x} \\left[ f(x^\\prime, y^\\prime) \\right] + b \\frac{\\partial}{\\partial y} \\left[ f(x^\\prime, y^\\prime) \\right] = 0$$\n",
    "$$ \\left[ \\frac{\\partial f}{\\partial x^\\prime} \\frac{\\partial x^\\prime}{\\partial t} + \\frac{\\partial f}{\\partial y^\\prime} \\frac{\\partial y^\\prime}{\\partial t} \\right] + a \\left[ \\frac{\\partial f}{\\partial x^\\prime} \\frac{\\partial x^\\prime}{\\partial x} + \\frac{\\partial f}{\\partial y^\\prime} \\frac{\\partial y^\\prime}{\\partial x} \\right] + b \\left[ \\frac{\\partial f}{\\partial x^\\prime} \\frac{\\partial x^\\prime}{\\partial y} + \\frac{\\partial f}{\\partial y^\\prime} \\frac{\\partial y^\\prime}{\\partial y} \\right] = 0 $$\n",
    "$$ \\left[ -a f_{x^\\prime} - b f_{y^\\prime} \\right] + a \\left[ f_{x^\\prime} + 0 \\right] + b \\left[ 0 + f_{y^\\prime} \\right] = 0 $$"
   ]
  },
  {
   "cell_type": "code",
   "execution_count": null,
   "metadata": {
    "vscode": {
     "languageId": "plaintext"
    }
   },
   "outputs": [],
   "source": []
  }
 ],
 "metadata": {
  "language_info": {
   "name": "python"
  }
 },
 "nbformat": 4,
 "nbformat_minor": 2
}
